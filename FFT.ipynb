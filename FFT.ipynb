{
  "nbformat": 4,
  "nbformat_minor": 0,
  "metadata": {
    "colab": {
      "provenance": [],
      "authorship_tag": "ABX9TyM6+9v4z2f36dN3Ynm5HNNc",
      "include_colab_link": true
    },
    "kernelspec": {
      "name": "python3",
      "display_name": "Python 3"
    },
    "language_info": {
      "name": "python"
    }
  },
  "cells": [
    {
      "cell_type": "markdown",
      "metadata": {
        "id": "view-in-github",
        "colab_type": "text"
      },
      "source": [
        "<a href=\"https://colab.research.google.com/github/newmantic/FFT/blob/main/FFT.ipynb\" target=\"_parent\"><img src=\"https://colab.research.google.com/assets/colab-badge.svg\" alt=\"Open In Colab\"/></a>"
      ]
    },
    {
      "cell_type": "code",
      "execution_count": 1,
      "metadata": {
        "id": "XmIpm8b_r7d7"
      },
      "outputs": [],
      "source": [
        "import cmath\n",
        "\n",
        "def fft(x):\n",
        "    \"\"\"\n",
        "    Compute the Fast Fourier Transform (FFT) of a sequence.\n",
        "    :param x: A list of complex numbers representing the input sequence.\n",
        "    :return: A list of complex numbers representing the Fourier coefficients.\n",
        "    \"\"\"\n",
        "    n = len(x)\n",
        "    if n <= 1:\n",
        "        return x\n",
        "\n",
        "    even = fft(x[0::2])\n",
        "    odd = fft(x[1::2])\n",
        "\n",
        "    T = [cmath.exp(-2j * cmath.pi * k / n) * odd[k] for k in range(n // 2)]\n",
        "\n",
        "    return [even[k] + T[k] for k in range(n // 2)] + \\\n",
        "           [even[k] - T[k] for k in range(n // 2)]\n",
        "\n",
        "def ifft(X):\n",
        "    \"\"\"\n",
        "    Compute the Inverse Fast Fourier Transform (IFFT) of a sequence.\n",
        "    :param X: A list of complex numbers representing the Fourier coefficients.\n",
        "    :return: A list of complex numbers representing the original sequence.\n",
        "    \"\"\"\n",
        "    n = len(X)\n",
        "    X_conj = [x.conjugate() for x in X]\n",
        "    x = fft(X_conj)\n",
        "    return [x_i.conjugate() / n for x_i in x]"
      ]
    },
    {
      "cell_type": "code",
      "source": [
        "def test_case_1():\n",
        "    x = [0, 1, 2, 3]\n",
        "    fft_result = fft(x)\n",
        "    print(f\"FFT of {x}: {fft_result}\")\n",
        "\n",
        "    # Expected: Fourier coefficients that represent the frequency components of the sequence\n",
        "\n",
        "test_case_1()"
      ],
      "metadata": {
        "colab": {
          "base_uri": "https://localhost:8080/"
        },
        "id": "KukV2UaEsLpe",
        "outputId": "1d977a9a-9ac0-4582-bba7-2ab9dd619a72"
      },
      "execution_count": 2,
      "outputs": [
        {
          "output_type": "stream",
          "name": "stdout",
          "text": [
            "FFT of [0, 1, 2, 3]: [(6+0j), (-2+2j), (-2+0j), (-1.9999999999999998-2j)]\n"
          ]
        }
      ]
    },
    {
      "cell_type": "code",
      "source": [
        "def test_case_2():\n",
        "    x = [0, 1, 2, 3]\n",
        "    fft_result = fft(x)\n",
        "    ifft_result = ifft(fft_result)\n",
        "    print(f\"Original sequence: {x}\")\n",
        "    print(f\"FFT: {fft_result}\")\n",
        "    print(f\"IFFT (Recovered sequence): {ifft_result}\")\n",
        "\n",
        "    # Expected: The IFFT result should be approximately equal to the original sequence\n",
        "\n",
        "test_case_2()"
      ],
      "metadata": {
        "colab": {
          "base_uri": "https://localhost:8080/"
        },
        "id": "pSY1DweZsQbA",
        "outputId": "5216714f-ad71-438f-de06-ae24694f088d"
      },
      "execution_count": 3,
      "outputs": [
        {
          "output_type": "stream",
          "name": "stdout",
          "text": [
            "Original sequence: [0, 1, 2, 3]\n",
            "FFT: [(6+0j), (-2+2j), (-2+0j), (-1.9999999999999998-2j)]\n",
            "IFFT (Recovered sequence): [-0j, (1+5.721188726109833e-18j), (2+0j), (3-5.721188726109833e-18j)]\n"
          ]
        }
      ]
    },
    {
      "cell_type": "code",
      "source": [
        "def test_case_3():\n",
        "    x = [0 + 0j, 1 + 1j, 2 + 0j, 3 + 1j]\n",
        "    fft_result = fft(x)\n",
        "    print(f\"FFT of {x}: {fft_result}\")\n",
        "\n",
        "    # Expected: Fourier coefficients that represent the frequency components of the complex sequence\n",
        "\n",
        "test_case_3()"
      ],
      "metadata": {
        "colab": {
          "base_uri": "https://localhost:8080/"
        },
        "id": "b6NHd1v9sSmA",
        "outputId": "66f2292d-2741-461d-a669-2be60315c2e9"
      },
      "execution_count": 4,
      "outputs": [
        {
          "output_type": "stream",
          "name": "stdout",
          "text": [
            "FFT of [0j, (1+1j), (2+0j), (3+1j)]: [(6+2j), (-2+2j), (-2-2j), (-1.9999999999999998-2j)]\n"
          ]
        }
      ]
    },
    {
      "cell_type": "code",
      "source": [
        "def test_case_4():\n",
        "    import numpy as np\n",
        "\n",
        "    # Original signal: A sine wave with some noise\n",
        "    n = 128\n",
        "    t = np.linspace(0, 1, n)\n",
        "    freq = 5  # 5 Hz\n",
        "    original_signal = np.sin(2 * np.pi * freq * t) + 0.5 * np.random.randn(n)\n",
        "\n",
        "    # Perform FFT\n",
        "    fft_result = fft(list(original_signal))\n",
        "\n",
        "    # Zero out high frequency components (simple low-pass filter)\n",
        "    fft_filtered = [v if 0 <= i < 10 or n-10 <= i < n else 0 for i, v in enumerate(fft_result)]\n",
        "\n",
        "    # Perform IFFT\n",
        "    recovered_signal = ifft(fft_filtered)\n",
        "\n",
        "    print(f\"Original signal (first 10 values): {original_signal[:10]}\")\n",
        "    print(f\"Recovered signal (first 10 values): {recovered_signal[:10]}\")\n",
        "\n",
        "    # Expected: Recovered signal should resemble the original signal with reduced noise\n",
        "\n",
        "test_case_4()"
      ],
      "metadata": {
        "colab": {
          "base_uri": "https://localhost:8080/"
        },
        "id": "g0jD4zM2sVIW",
        "outputId": "e61671a3-8637-4c39-9ee1-421e57c559f6"
      },
      "execution_count": 5,
      "outputs": [
        {
          "output_type": "stream",
          "name": "stdout",
          "text": [
            "Original signal (first 10 values): [ 0.21248524 -0.2214679   0.36591087  0.78796614  0.55939833  0.71521706\n",
            "  0.73929683  0.98592119  0.944583    1.68229771]\n",
            "Recovered signal (first 10 values): [(-0.08264237792228067-0.0008290272530206005j), (0.12951547299686758-0.010773006395577198j), (0.34478854110382046-0.018172859589420012j), (0.5504734849882811-0.021281056216275757j), (0.7327074661805077-0.019363572420432688j), (0.8775255905136774-0.012873236326382044j), (0.9721557401636272-0.0033427892940034337j), (1.0064182048160493+0.006977082405146815j), (0.974056514889968+0.01564926396642302j), (0.8738066844941474+0.020625754921631028j)]\n"
          ]
        }
      ]
    }
  ]
}